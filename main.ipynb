{
 "cells": [
  {
   "cell_type": "code",
   "execution_count": 12,
   "id": "e65fee17-2b3a-45cf-809b-92a918037f77",
   "metadata": {},
   "outputs": [
    {
     "data": {
      "text/html": [
       "<div>\n",
       "<style scoped>\n",
       "    .dataframe tbody tr th:only-of-type {\n",
       "        vertical-align: middle;\n",
       "    }\n",
       "\n",
       "    .dataframe tbody tr th {\n",
       "        vertical-align: top;\n",
       "    }\n",
       "\n",
       "    .dataframe thead th {\n",
       "        text-align: right;\n",
       "    }\n",
       "</style>\n",
       "<table border=\"1\" class=\"dataframe\">\n",
       "  <thead>\n",
       "    <tr style=\"text-align: right;\">\n",
       "      <th></th>\n",
       "      <th>Student ID</th>\n",
       "      <th>student_name</th>\n",
       "      <th>gender</th>\n",
       "      <th>year</th>\n",
       "      <th>school_name</th>\n",
       "      <th>reading_score</th>\n",
       "      <th>maths_score</th>\n",
       "      <th>School ID</th>\n",
       "      <th>type</th>\n",
       "      <th>size</th>\n",
       "      <th>budget</th>\n",
       "    </tr>\n",
       "  </thead>\n",
       "  <tbody>\n",
       "    <tr>\n",
       "      <th>0</th>\n",
       "      <td>0</td>\n",
       "      <td>Paul Bradley</td>\n",
       "      <td>M</td>\n",
       "      <td>9</td>\n",
       "      <td>Huang High School</td>\n",
       "      <td>96</td>\n",
       "      <td>94</td>\n",
       "      <td>0</td>\n",
       "      <td>Government</td>\n",
       "      <td>2917</td>\n",
       "      <td>1910635</td>\n",
       "    </tr>\n",
       "    <tr>\n",
       "      <th>1</th>\n",
       "      <td>1</td>\n",
       "      <td>Victor Smith</td>\n",
       "      <td>M</td>\n",
       "      <td>12</td>\n",
       "      <td>Huang High School</td>\n",
       "      <td>90</td>\n",
       "      <td>43</td>\n",
       "      <td>0</td>\n",
       "      <td>Government</td>\n",
       "      <td>2917</td>\n",
       "      <td>1910635</td>\n",
       "    </tr>\n",
       "    <tr>\n",
       "      <th>2</th>\n",
       "      <td>2</td>\n",
       "      <td>Kevin Rodriguez</td>\n",
       "      <td>M</td>\n",
       "      <td>12</td>\n",
       "      <td>Huang High School</td>\n",
       "      <td>41</td>\n",
       "      <td>76</td>\n",
       "      <td>0</td>\n",
       "      <td>Government</td>\n",
       "      <td>2917</td>\n",
       "      <td>1910635</td>\n",
       "    </tr>\n",
       "    <tr>\n",
       "      <th>3</th>\n",
       "      <td>3</td>\n",
       "      <td>Richard Scott</td>\n",
       "      <td>M</td>\n",
       "      <td>12</td>\n",
       "      <td>Huang High School</td>\n",
       "      <td>89</td>\n",
       "      <td>86</td>\n",
       "      <td>0</td>\n",
       "      <td>Government</td>\n",
       "      <td>2917</td>\n",
       "      <td>1910635</td>\n",
       "    </tr>\n",
       "    <tr>\n",
       "      <th>4</th>\n",
       "      <td>4</td>\n",
       "      <td>Bonnie Ray</td>\n",
       "      <td>F</td>\n",
       "      <td>9</td>\n",
       "      <td>Huang High School</td>\n",
       "      <td>87</td>\n",
       "      <td>69</td>\n",
       "      <td>0</td>\n",
       "      <td>Government</td>\n",
       "      <td>2917</td>\n",
       "      <td>1910635</td>\n",
       "    </tr>\n",
       "  </tbody>\n",
       "</table>\n",
       "</div>"
      ],
      "text/plain": [
       "   Student ID     student_name gender  year        school_name  reading_score  \\\n",
       "0           0     Paul Bradley      M     9  Huang High School             96   \n",
       "1           1     Victor Smith      M    12  Huang High School             90   \n",
       "2           2  Kevin Rodriguez      M    12  Huang High School             41   \n",
       "3           3    Richard Scott      M    12  Huang High School             89   \n",
       "4           4       Bonnie Ray      F     9  Huang High School             87   \n",
       "\n",
       "   maths_score  School ID        type  size   budget  \n",
       "0           94          0  Government  2917  1910635  \n",
       "1           43          0  Government  2917  1910635  \n",
       "2           76          0  Government  2917  1910635  \n",
       "3           86          0  Government  2917  1910635  \n",
       "4           69          0  Government  2917  1910635  "
      ]
     },
     "execution_count": 12,
     "metadata": {},
     "output_type": "execute_result"
    }
   ],
   "source": [
    "# Dependencies and Setup\n",
    "from pathlib import Path\n",
    "import pandas as pd\n",
    "\n",
    "# File to Load (Remember to Change These)\n",
    "school_data = Path(r\"C:\\Users\\amrit\\LearnPython\\assignment1\\pandas-challenge\\PyCitySchools\\Resources\\schools_complete.csv\")\n",
    "student_data = Path(r\"C:\\Users\\amrit\\LearnPython\\assignment1\\pandas-challenge\\PyCitySchools\\Resources\\students_complete.csv\")\n",
    "\n",
    "# Read School and Student Data File and store into Pandas DataFrames\n",
    "school_data_df = pd.read_csv(school_data, encoding=\"utf-8\")\n",
    "student_data_df = pd.read_csv(student_data, encoding=\"utf-8\")\n",
    "\n",
    "# Combine the data into a single dataset.\n",
    "school_data_complete = pd.merge(student_data_df, school_data_df, how=\"left\", on=\"school_name\")\n",
    "school_data_complete.head()"
   ]
  },
  {
   "cell_type": "markdown",
   "id": "97beed97-0416-4c61-a0fa-8a48d32f7f97",
   "metadata": {},
   "source": [
    "# Local Government Area Summary"
   ]
  },
  {
   "cell_type": "code",
   "execution_count": 13,
   "id": "28721126-c1d0-4133-890c-4f2c8ee1a7f8",
   "metadata": {},
   "outputs": [
    {
     "name": "stdout",
     "output_type": "stream",
     "text": [
      "Total Number of Unique Schools:  15\n",
      "Total Students:  39170\n",
      "Total Budget: 24649428.00\n",
      "Budget Per student: 629.29\n"
     ]
    }
   ],
   "source": [
    "# Calculate the Totals (Schools and Students)\n",
    "school_count =len(school_data_complete[\"school_name\"].unique())\n",
    "student_count =len(school_data_complete[\"student_name\"])\n",
    "\n",
    "# Calculate the Total Budget\n",
    "total_budget =sum(school_data_complete[\"budget\"].unique())\n",
    "\n",
    "\n",
    "Budget_per_student = total_budget/student_count\n",
    "\n",
    "print(\"Total Number of Unique Schools: \", school_count)\n",
    "print(\"Total Students: \", student_count)\n",
    "print(f\"Total Budget: {total_budget:.2f}\")\n",
    "print(f\"Budget Per student: {Budget_per_student:.2f}\")\n",
    "\n"
   ]
  },
  {
   "cell_type": "code",
   "execution_count": 14,
   "id": "50314851-df1b-4de7-a4cc-d6a2e35b9556",
   "metadata": {},
   "outputs": [
    {
     "name": "stdout",
     "output_type": "stream",
     "text": [
      "Average Math Score: 70.34\n",
      "Average Reading Score: 69.98\n"
     ]
    }
   ],
   "source": [
    "# Calculate the Average Scores\n",
    "Total_Math_Score = sum(school_data_complete[\"maths_score\"])\n",
    "Total_Reading_Score = sum(school_data_complete[\"reading_score\"])\n",
    "\n",
    "average_maths_score =Total_Math_Score/student_count\n",
    "school_data_complete[\"Average Maths Score\"]=average_maths_score\n",
    "\n",
    "average_reading_score =Total_Reading_Score/student_count\n",
    "school_data_complete[\"Average Reading Score\"]=average_reading_score\n",
    "\n",
    "print(f\"Average Math Score: {average_maths_score:.2f}\")\n",
    "print(f\"Average Reading Score: {average_reading_score:.2f}\")\n"
   ]
  },
  {
   "cell_type": "code",
   "execution_count": 15,
   "id": "b4ab1310-f313-41f6-8f6a-1de2d17d4f2d",
   "metadata": {},
   "outputs": [
    {
     "name": "stdout",
     "output_type": "stream",
     "text": [
      "% Passing Math: 86.08%\n",
      "% Passing Reading: 84.43%\n",
      "% Overall Passing (Math and Reading): 72.81%\n"
     ]
    }
   ],
   "source": [
    "\n",
    "# Define the passing score\n",
    "passing_score = 50\n",
    "\n",
    "# % passing maths (the percentage of students who passed maths)\n",
    "students_pass_math = school_data_complete[school_data_complete[\"maths_score\"] >= passing_score]\n",
    "pass_math = len(students_pass_math)\n",
    "percentage_pass_math = (pass_math / len(school_data_complete)) * 100\n",
    "school_data_complete[\"% Passing Maths\"]=percentage_pass_math\n",
    "\n",
    "# % passing reading (the percentage of students who passed reading)\n",
    "students_pass_reading = school_data_complete[school_data_complete[\"reading_score\"] >= passing_score]\n",
    "pass_reading = len(students_pass_reading)\n",
    "percentage_pass_reading = (pass_reading / len(school_data_complete)) * 100\n",
    "school_data_complete[\"% Passing Reading\"]=percentage_pass_reading\n",
    "\n",
    "# % overall passing (the percentage of students who passed both maths AND reading)\n",
    "students_pass_both = school_data_complete[(school_data_complete[\"maths_score\"] >= passing_score) & \n",
    "                                          (school_data_complete[\"reading_score\"] >= passing_score)]\n",
    "pass_both = len(students_pass_both)\n",
    "percentage_pass_both = (pass_both / len(school_data_complete)) * 100\n",
    "school_data_complete[\"% Overall Passing\"]=percentage_pass_both\n",
    "\n",
    "# Output the results\n",
    "print(f\"% Passing Math: {percentage_pass_math:.2f}%\")\n",
    "print(f\"% Passing Reading: {percentage_pass_reading:.2f}%\")\n",
    "print(f\"% Overall Passing (Math and Reading): {percentage_pass_both:.2f}%\")"
   ]
  },
  {
   "cell_type": "code",
   "execution_count": 26,
   "id": "b4141d6f-daa1-486c-8977-be1300f12c45",
   "metadata": {},
   "outputs": [
    {
     "data": {
      "text/html": [
       "<div>\n",
       "<style scoped>\n",
       "    .dataframe tbody tr th:only-of-type {\n",
       "        vertical-align: middle;\n",
       "    }\n",
       "\n",
       "    .dataframe tbody tr th {\n",
       "        vertical-align: top;\n",
       "    }\n",
       "\n",
       "    .dataframe thead th {\n",
       "        text-align: right;\n",
       "    }\n",
       "</style>\n",
       "<table border=\"1\" class=\"dataframe\">\n",
       "  <thead>\n",
       "    <tr style=\"text-align: right;\">\n",
       "      <th></th>\n",
       "      <th>Total Schools</th>\n",
       "      <th>Total Students</th>\n",
       "      <th>Total Budget</th>\n",
       "      <th>Average Maths Score</th>\n",
       "      <th>Average Reading Score</th>\n",
       "      <th>% Passing Math</th>\n",
       "      <th>% Passing Reading</th>\n",
       "      <th>% Overall Passing</th>\n",
       "    </tr>\n",
       "  </thead>\n",
       "  <tbody>\n",
       "    <tr>\n",
       "      <th>0</th>\n",
       "      <td>15</td>\n",
       "      <td>39,170</td>\n",
       "      <td>$24,649,428.00</td>\n",
       "      <td>70.338192</td>\n",
       "      <td>69.980138</td>\n",
       "      <td>86.078632</td>\n",
       "      <td>84.426857</td>\n",
       "      <td>72.808272</td>\n",
       "    </tr>\n",
       "  </tbody>\n",
       "</table>\n",
       "</div>"
      ],
      "text/plain": [
       "   Total Schools Total Students    Total Budget  Average Maths Score  \\\n",
       "0             15         39,170  $24,649,428.00            70.338192   \n",
       "\n",
       "   Average Reading Score  % Passing Math  % Passing Reading  % Overall Passing  \n",
       "0              69.980138       86.078632          84.426857          72.808272  "
      ]
     },
     "execution_count": 26,
     "metadata": {},
     "output_type": "execute_result"
    }
   ],
   "source": [
    "# Convert to DataFrame\n",
    "area_summary = pd.DataFrame({\"Total Schools\":[school_count], \"Total Students\":[student_count], \"Total Budget\":[total_budget], \"Average Maths Score\":[average_maths_score], \"Average Reading Score\":[average_reading_score], \"% Passing Math\":[percentage_pass_math],\"% Passing Reading\":[percentage_pass_reading], \"% Overall Passing\":[percentage_pass_both]})\n",
    "\n",
    "area_summary[\"Total Students\"] = area_summary[\"Total Students\"].map(\"{:,}\".format)\n",
    "area_summary[\"Total Budget\"] = area_summary[\"Total Budget\"].map(\"${:,.2f}\".format)\n",
    "area_summary.head()"
   ]
  },
  {
   "cell_type": "markdown",
   "id": "cabbf23c-5ec2-4c73-9d0c-aacd86a00c6e",
   "metadata": {},
   "source": []
  },
  {
   "cell_type": "markdown",
   "id": "b73ae6bb-7510-4328-b4d2-de01be67f441",
   "metadata": {},
   "source": [
    "# School Summary"
   ]
  },
  {
   "cell_type": "code",
   "execution_count": 1,
   "id": "bb1535fa-4cd8-4bfe-a9b4-0384b390743a",
   "metadata": {},
   "outputs": [
    {
     "ename": "SyntaxError",
     "evalue": "incomplete input (2301162452.py, line 22)",
     "output_type": "error",
     "traceback": [
      "\u001b[1;36m  Cell \u001b[1;32mIn[1], line 22\u001b[1;36m\u001b[0m\n\u001b[1;33m    school_data_complete[[\"school_name\",\"school_type\"].head()\u001b[0m\n\u001b[1;37m                                                             ^\u001b[0m\n\u001b[1;31mSyntaxError\u001b[0m\u001b[1;31m:\u001b[0m incomplete input\n"
     ]
    }
   ],
   "source": [
    "# Use the code provided to select the type per school from school_data\n",
    "\n",
    "school_types = school_data_complete.set_index([\"school_name\"])[\"type\"]\n",
    "\n",
    "# Calculate the total student count per school from school_data\n",
    "per_school_counts = len(school_data_complete[\"school_name\"].unique())\n",
    "\n",
    "# Calculate the total school budget and per capita spending per school from school_data\n",
    "per_school_budget = total_budget/school_count\n",
    "\n",
    "per_school_capita = per_school_budget/per_school_counts\n",
    "\n",
    "# Calculate the average test scores per school from school_data_complete\n",
    "per_school_maths = school_data_complete.groupby(\"school_name\")[\"maths_score\"].mean()\n",
    "per_school_reading = school_data_complete.groupby(\"school_name\")[\"reading_score\"].mean()\n",
    "\n",
    "\n",
    "# Get the students who passed both reading and maths in a separate DataFrame from school_data_complete.\n",
    "passing_maths_and_reading =per_school_maths + per_school_reading\n",
    "\n",
    "\n",
    "school_data_complete[[\"school_name\",\"school_type\"].head()"
   ]
  },
  {
   "cell_type": "code",
   "execution_count": 39,
   "id": "489b7c18-e2fc-4ba7-aebb-ad4eaf58cdf2",
   "metadata": {},
   "outputs": [],
   "source": [
    "passing_score = 50\n",
    "\n",
    "school_passing_maths = school_data_complete[school_data_complete[\"maths_score\"] >= passing_score]\n",
    "school_passing_reading = school_data_complete[school_data_complete[\"reading_score\"] >= passing_score]\n",
    "\n",
    "# Get the students who passed both reading and maths\n",
    "passing_maths_and_reading = school_data_complete[\n",
    "    (school_data_complete[\"maths_score\"] >= passing_score) &\n",
    "    (school_data_complete[\"reading_score\"] >= passing_score)\n",
    "]\n"
   ]
  },
  {
   "cell_type": "code",
   "execution_count": 36,
   "id": "6cbbbbe9-8147-4045-8c2b-47fedd739059",
   "metadata": {},
   "outputs": [
    {
     "ename": "SyntaxError",
     "evalue": "invalid syntax (791672066.py, line 6)",
     "output_type": "error",
     "traceback": [
      "\u001b[1;36m  Cell \u001b[1;32mIn[36], line 6\u001b[1;36m\u001b[0m\n\u001b[1;33m    \"Total School Budget\": per_school_budget,\u001b[0m\n\u001b[1;37m                         ^\u001b[0m\n\u001b[1;31mSyntaxError\u001b[0m\u001b[1;31m:\u001b[0m invalid syntax\n"
     ]
    }
   ],
   "source": [
    "# Convert to DataFrame\n",
    "per_school_summary = pd.DataFrame({\n",
    "    \"School Name\",\n",
    "    \"School Type\",\n",
    "     \"Total Students\",                                  \n",
    "    \"Total School Budget\": per_school_budget,\n",
    "    \"Per Student Budget\": per_school_capita,\n",
    "    \"Average Maths Score\": per_school_maths,\n",
    "    \"Average Reading Score\": per_school_reading\n",
    "})\n",
    "print(per_school_counts)\n",
    "print(per_school_budget)\n",
    "print(per_school_capita)\n",
    "print(per_school_maths)\n",
    "\n",
    "\n",
    "# Display the DataFrame\n",
    "per_school_summary"
   ]
  },
  {
   "cell_type": "code",
   "execution_count": 34,
   "id": "ec0a4332-a839-4096-9c69-1311b629ee11",
   "metadata": {},
   "outputs": [
    {
     "ename": "SyntaxError",
     "evalue": "invalid syntax (3058923139.py, line 7)",
     "output_type": "error",
     "traceback": [
      "\u001b[1;36m  Cell \u001b[1;32mIn[34], line 7\u001b[1;36m\u001b[0m\n\u001b[1;33m    per_school_summary =\u001b[0m\n\u001b[1;37m                        ^\u001b[0m\n\u001b[1;31mSyntaxError\u001b[0m\u001b[1;31m:\u001b[0m invalid syntax\n"
     ]
    }
   ],
   "source": [
    "# Formatting the monetary values\n",
    "per_school_summary[\"Total School Budget\"] = per_school_summary[\"Total School Budget\"].map(\"${:,.2f}\".format)\n",
    "per_school_summary[\"Per Student Budget\"] = per_school_summary[\"Per Student Budget\"].map(\"${:,.2f}\".format)\n",
    "\n",
    "# Display the formatted DataFrame\n",
    "per_school_summary\n",
    "per_school_summary =\n",
    "\n",
    "# Formatting\n",
    "per_school_summary[\"Total School Budget\"] = per_school_summary[\"Total School Budget\"].map(\"${:,.2f}\".format)\n",
    "per_school_summary[\"Per Student Budget\"] = per_school_summary[\"Per Student Budget\"].map(\"${:,.2f}\".format)\n",
    "\n",
    "# Display the DataFrame\n",
    "per_school_summary"
   ]
  },
  {
   "cell_type": "code",
   "execution_count": null,
   "id": "02ef4fed-4b09-4dc6-83fb-a63f6ef1398b",
   "metadata": {},
   "outputs": [],
   "source": []
  }
 ],
 "metadata": {
  "kernelspec": {
   "display_name": "Python 3 (ipykernel)",
   "language": "python",
   "name": "python3"
  },
  "language_info": {
   "codemirror_mode": {
    "name": "ipython",
    "version": 3
   },
   "file_extension": ".py",
   "mimetype": "text/x-python",
   "name": "python",
   "nbconvert_exporter": "python",
   "pygments_lexer": "ipython3",
   "version": "3.10.14"
  }
 },
 "nbformat": 4,
 "nbformat_minor": 5
}
